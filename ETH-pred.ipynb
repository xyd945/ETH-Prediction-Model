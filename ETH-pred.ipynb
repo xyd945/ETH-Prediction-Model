{
 "cells": [
  {
   "cell_type": "markdown",
   "metadata": {},
   "source": [
    "# ETH price prediction\n",
    "## draft: try requests"
   ]
  },
  {
   "cell_type": "markdown",
   "metadata": {},
   "source": [
    "#interval=\n",
    "1s\n",
    "1m\n",
    "3m\n",
    "5m\n",
    "15m\n",
    "30m\n",
    "1h\n",
    "2h\n",
    "4h\n",
    "6h\n",
    "8h\n",
    "12h\n",
    "1d\n",
    "3d\n",
    "1w\n",
    "1M"
   ]
  },
  {
   "cell_type": "code",
   "execution_count": 1,
   "metadata": {},
   "outputs": [],
   "source": [
    "import requests\n",
    "url = f\"https://api.binance.com/api/v3/klines?symbol=ETHUSDT&interval=1h\"\n",
    "r = requests.get(url)\n",
    "cex_x = r.json()\n",
    "\n",
    "# cex_x is a list 500 items, one for every hour, on the hour. \n",
    "#\n",
    "# Each item has a list of 12 entries: \n",
    "# (0) timestamp (1) open price (2) high price (3) low price (4) close price (5) Vol ..\n",
    "#\n",
    "# Example item: [1662998400000, 1706.38, 1717.87, 1693, 1713.56, ..]\n",
    "# Timestamp is unix time, but in ms. To get unix time (in s), divide by 1000\n",
    "\n",
    "# Example: get unix timestamps\n",
    "uts = [xi[0]/1000 for xi in cex_x]\n",
    "\n",
    "# Example: get close prices\n",
    "close_prices = [float(xi[4]) for xi in cex_x]"
   ]
  },
  {
   "cell_type": "code",
   "execution_count": 5,
   "metadata": {},
   "outputs": [
    {
     "data": {
      "text/plain": [
       "[1674504000000,\n",
       " '1619.89000000',\n",
       " '1635.26000000',\n",
       " '1618.65000000',\n",
       " '1634.80000000',\n",
       " '13128.47390000',\n",
       " 1674507599999,\n",
       " '21335099.58951300',\n",
       " 21144,\n",
       " '6794.68700000',\n",
       " '11043952.13451200',\n",
       " '0']"
      ]
     },
     "execution_count": 5,
     "metadata": {},
     "output_type": "execute_result"
    }
   ],
   "source": [
    "cex_x[0]"
   ]
  },
  {
   "cell_type": "code",
   "execution_count": 6,
   "metadata": {},
   "outputs": [
    {
     "data": {
      "text/plain": [
       "[1674507600000,\n",
       " '1634.80000000',\n",
       " '1635.50000000',\n",
       " '1629.53000000',\n",
       " '1631.84000000',\n",
       " '9298.67480000',\n",
       " 1674511199999,\n",
       " '15180018.46912200',\n",
       " 15686,\n",
       " '4916.08620000',\n",
       " '8025556.27142700',\n",
       " '0']"
      ]
     },
     "execution_count": 6,
     "metadata": {},
     "output_type": "execute_result"
    }
   ],
   "source": [
    "cex_x[1]"
   ]
  },
  {
   "cell_type": "code",
   "execution_count": 7,
   "metadata": {},
   "outputs": [
    {
     "data": {
      "text/plain": [
       "[1674511200000,\n",
       " '1631.84000000',\n",
       " '1635.75000000',\n",
       " '1622.13000000',\n",
       " '1627.47000000',\n",
       " '8959.69260000',\n",
       " 1674514799999,\n",
       " '14619751.23709700',\n",
       " 13837,\n",
       " '5168.26710000',\n",
       " '8435460.34895800',\n",
       " '0']"
      ]
     },
     "execution_count": 7,
     "metadata": {},
     "output_type": "execute_result"
    }
   ],
   "source": [
    "cex_x[2]"
   ]
  },
  {
   "cell_type": "markdown",
   "metadata": {},
   "source": [
    "Here's a different example, restricting data to just the previous week."
   ]
  },
  {
   "cell_type": "code",
   "execution_count": null,
   "metadata": {},
   "outputs": [],
   "source": [
    "from datetime import datetime, timedelta\n",
    "end_datetime = datetime.now() \n",
    "start_datetime = end_datetime - timedelta(days=7)\n",
    "\n",
    "url = f\"https://api.binance.com/api/v3/klines?symbol=ETHUSDT&interval=1h&startTime={int(start_datetime.timestamp())*1000}&endTime={int(end_datetime.timestamp())*1000}\"\n",
    "\n",
    "# the rest is the same. cex_x should have just 168 items (number of hours in the week)\n",
    "\n",
    "r = requests.get(url)\n",
    "cex_x_7days = r.json()#168 hours\n",
    "\n"
   ]
  },
  {
   "cell_type": "markdown",
   "metadata": {},
   "source": [
    "## Prepare the data\n",
    "Download and store the recent 2000h data into cex_X_0216.csv"
   ]
  },
  {
   "cell_type": "code",
   "execution_count": 12,
   "metadata": {},
   "outputs": [],
   "source": [
    "###2.16 17:00 CET\n",
    "import requests\n",
    "from datetime import datetime, timedelta\n",
    "end_datetime = datetime.now() # datetime.datetime(2023, 2, 16, 17, 1, 22, 123888)\n",
    "start_datetime = end_datetime - timedelta(hours=1000)\n",
    "\n",
    "url = f\"https://api.binance.com/api/v3/klines?symbol=ETHUSDT&interval=1h&startTime={int(start_datetime.timestamp())*1000}&endTime={int(end_datetime.timestamp())*1000}&limit=1000\"\n",
    "r = requests.get(url)\n",
    "cex_x_1000 = r.json()#1000 hours; from 1000-1999 (1672966800000-1676566799999)\n"
   ]
  },
  {
   "cell_type": "code",
   "execution_count": 13,
   "metadata": {},
   "outputs": [],
   "source": [
    "start_datetime2 = start_datetime - timedelta(hours=1000)\n",
    "\n",
    "url2 = f\"https://api.binance.com/api/v3/klines?symbol=ETHUSDT&interval=1h&startTime={int(start_datetime2.timestamp())*1000}&endTime={int(start_datetime.timestamp())*1000}&limit=1000\"\n",
    "r2 = requests.get(url2)\n",
    "cex_x_2000 = r2.json()#1000 hours; from 0-999 (1669366800000-1672966799999)\n"
   ]
  },
  {
   "cell_type": "code",
   "execution_count": 18,
   "metadata": {},
   "outputs": [
    {
     "data": {
      "text/plain": [
       "[1676563200000,\n",
       " '1724.14000000',\n",
       " '1742.97000000',\n",
       " '1723.15000000',\n",
       " '1731.97000000',\n",
       " '22130.54570000',\n",
       " 1676566799999,\n",
       " '38393312.03019700',\n",
       " 26088,\n",
       " '11100.84330000',\n",
       " '19261116.52590600',\n",
       " '0']"
      ]
     },
     "execution_count": 18,
     "metadata": {},
     "output_type": "execute_result"
    }
   ],
   "source": [
    "cex_x_1000[999]"
   ]
  },
  {
   "cell_type": "code",
   "execution_count": 23,
   "metadata": {},
   "outputs": [
    {
     "data": {
      "text/plain": [
       "12"
      ]
     },
     "execution_count": 23,
     "metadata": {},
     "output_type": "execute_result"
    }
   ],
   "source": [
    "len(cex_x_1000[999])"
   ]
  },
  {
   "cell_type": "code",
   "execution_count": null,
   "metadata": {},
   "outputs": [],
   "source": [
    "#     1499040000000,      // Kline open time\n",
    "#     \"0.01634790\",       // Open price\n",
    "#     \"0.80000000\",       // High price\n",
    "#     \"0.01575800\",       // Low price\n",
    "#     \"0.01577100\",       // Close price\n",
    "#     \"148976.11427815\",  // Volume\n",
    "#     1499644799999,      // Kline Close time\n",
    "#     \"2434.19055334\",    // Quote asset volume\n",
    "#     308,                // Number of trades\n",
    "#     \"1756.87402397\",    // Taker buy base asset volume\n",
    "#     \"28.46694368\",      // Taker buy quote asset volume\n",
    "#     \"0\"                 // Unused field, ignore."
   ]
  },
  {
   "cell_type": "code",
   "execution_count": 22,
   "metadata": {},
   "outputs": [
    {
     "data": {
      "text/plain": [
       "2000"
      ]
     },
     "execution_count": 22,
     "metadata": {},
     "output_type": "execute_result"
    }
   ],
   "source": [
    "cex_X=cex_x_2000+cex_x_1000\n",
    "len(cex_X)"
   ]
  },
  {
   "cell_type": "code",
   "execution_count": 24,
   "metadata": {},
   "outputs": [],
   "source": [
    "import pandas as pd\n",
    "df = pd.DataFrame(cex_X, columns =[\"Open time\", \n",
    "                                   \"Open price\", \n",
    "                                   \"High price\", \n",
    "                                   \"Low price\", \n",
    "                                   \"Close price\", \n",
    "                                   \"Volume\", \n",
    "                                   \"Close time\", \n",
    "                                   \"Quote asset volume\", \n",
    "                                   \"Number of trades\", \n",
    "                                   \"Taker buy base asset volume\", \n",
    "                                   \"Taker buy quote asset volume\", \n",
    "                                   \"Unused field\"])\n",
    "df.to_csv(\"./cex_X_0216.csv\", encoding=\"utf_8_sig\", index=False)"
   ]
  },
  {
   "cell_type": "markdown",
   "metadata": {},
   "source": [
    "## Prepare train-test set\n",
    "Choose features (8); \n",
    "\n",
    "Normalization; \n",
    "\n",
    "Make X, y, train-test set"
   ]
  },
  {
   "cell_type": "code",
   "execution_count": 26,
   "metadata": {},
   "outputs": [
    {
     "data": {
      "text/plain": [
       "(2000, 8)"
      ]
     },
     "execution_count": 26,
     "metadata": {},
     "output_type": "execute_result"
    }
   ],
   "source": [
    "### Load csv if you start from here\n",
    "import pandas as pd\n",
    "#df=pd.read_csv(\"./cex_X_0216.csv\") \n",
    "\n",
    "using_features=[\"Open price\", \n",
    "                \"High price\", \n",
    "                \"Low price\", \n",
    "                \"Volume\", \n",
    "                \"Quote asset volume\", \n",
    "                \"Number of trades\", \n",
    "                \"Taker buy base asset volume\", \n",
    "                \"Taker buy quote asset volume\"]\n",
    "\n",
    "X_ori=df[using_features].to_numpy()\n",
    "X_ori.shape\n",
    "X0_ori=X_ori[:,0].reshape(-1, 1)"
   ]
  },
  {
   "cell_type": "code",
   "execution_count": 65,
   "metadata": {},
   "outputs": [],
   "source": [
    "import numpy as np\n",
    "from sklearn.preprocessing import MinMaxScaler\n",
    "\n",
    "def make_X_y(df, using_features): \n",
    "    X_ori=df[using_features].to_numpy()\n",
    "    scaler=MinMaxScaler(feature_range=(0,1))\n",
    "    X_scaled=scaler.fit_transform(X_ori)\n",
    "\n",
    "    X=[]\n",
    "    y=[]\n",
    "    for i in range(168, 2000):\n",
    "        X.append(X_scaled[i-168:i, :])\n",
    "        y.append(X_scaled[i, 0])\n",
    "    X=np.array(X)\n",
    "    y=np.array(y).reshape(-1,1)\n",
    "    \n",
    "    X_train=X[:1400,:,:]\n",
    "    X_test=X[1400:,:,:]\n",
    "    y_train=y[:1400]\n",
    "    y_test=y[1400:]\n",
    "    print(X_train.shape, X_test.shape, y_train.shape, y_test.shape)\n",
    "\n",
    "    return X_train, X_test, y_train, y_test, scaler"
   ]
  },
  {
   "cell_type": "markdown",
   "metadata": {},
   "source": [
    "#### Choose 8 features, make train-test set"
   ]
  },
  {
   "cell_type": "code",
   "execution_count": 67,
   "metadata": {},
   "outputs": [
    {
     "name": "stdout",
     "output_type": "stream",
     "text": [
      "(1400, 168, 8) (432, 168, 8) (1400, 1) (432, 1)\n"
     ]
    }
   ],
   "source": [
    "X_train, X_test, y_train, y_test, scaler=make_X_y(df, using_features)"
   ]
  },
  {
   "cell_type": "markdown",
   "metadata": {},
   "source": [
    "#### Choose only \"Open price\" feature, make train-test set"
   ]
  },
  {
   "cell_type": "code",
   "execution_count": 66,
   "metadata": {},
   "outputs": [
    {
     "name": "stdout",
     "output_type": "stream",
     "text": [
      "(1400, 168, 1) (432, 168, 1) (1400, 1) (432, 1)\n"
     ]
    }
   ],
   "source": [
    "X0_train, X0_test, _, _, scaler_x0=make_X_y(df, [\"Open price\"])"
   ]
  },
  {
   "cell_type": "markdown",
   "metadata": {},
   "source": [
    "## Build models & Train"
   ]
  },
  {
   "cell_type": "code",
   "execution_count": 69,
   "metadata": {},
   "outputs": [],
   "source": [
    "from keras.layers import LSTM, Activation, Dropout, Dense, Input, SimpleRNN\n",
    "from keras.models import Model, Sequential\n",
    "from sklearn.model_selection import train_test_split\n",
    "import tensorflow as tf\n",
    "import matplotlib.pyplot as plt\n",
    "\n",
    "\n",
    "def build_model0(input_shape=(168,8)):\n",
    "    model=Sequential()\n",
    "    model.add(LSTM(units=50, return_sequences=True, input_shape=input_shape))\n",
    "    model.add(Dropout(0.2))\n",
    "    \n",
    "    model.add(LSTM(units=50, return_sequences=True))\n",
    "    model.add(Dropout(0.2))\n",
    "    \n",
    "    model.add(LSTM(units=50, return_sequences=True))\n",
    "    model.add(Dropout(0.2))\n",
    "    \n",
    "    model.add(LSTM(units=50))\n",
    "    model.add(Dropout(0.2))\n",
    "    \n",
    "    model.add(Dense(units=1, activation='relu'))\n",
    "    return model\n",
    "    \n",
    "    \n",
    "def build_model(input_shape=(168,8)):\n",
    "    X_input = Input(input_shape)\n",
    "\n",
    "    X = LSTM(32, return_sequences=True)(X_indices)\n",
    "    X = Dropout(0.6)(X)\n",
    "    \n",
    "    X = LSTM(16, return_sequences=True)(X)\n",
    "    X = Dropout(0.6)(X)\n",
    "    \n",
    "    X = Dense(1, activation='sigmoid')(X)\n",
    "    model = Model(inputs=X_indices, outputs=X)\n",
    "    return model\n",
    "    \n",
    "\n",
    "def train(X_train, y_train, use_model=build_model0, input_shape=(168,8), epochs=10):\n",
    "    model = use_model(input_shape=input_shape)\n",
    "    print(\"train:\")\n",
    "#     adam = tf.keras.optimizers.Adam(learning_rate = 0.0005)\n",
    "    model.compile(optimizer='adam', loss='mean_squared_error', metrics=['mean_squared_error'])\n",
    "    model.fit(X_train, y_train, batch_size=32, epochs=epochs)\n",
    "    return model\n"
   ]
  },
  {
   "cell_type": "markdown",
   "metadata": {},
   "source": [
    "#### Use 8 features"
   ]
  },
  {
   "cell_type": "code",
   "execution_count": 78,
   "metadata": {},
   "outputs": [
    {
     "name": "stdout",
     "output_type": "stream",
     "text": [
      "train:\n",
      "Epoch 1/10\n",
      "1400/1400 [==============================] - 65s 46ms/step - loss: 0.0171 - mean_squared_error: 0.0171\n",
      "Epoch 2/10\n",
      "1400/1400 [==============================] - 57s 41ms/step - loss: 0.0042 - mean_squared_error: 0.0042\n",
      "Epoch 3/10\n",
      "1400/1400 [==============================] - 58s 41ms/step - loss: 0.0035 - mean_squared_error: 0.0035\n",
      "Epoch 4/10\n",
      "1400/1400 [==============================] - 59s 42ms/step - loss: 0.0031 - mean_squared_error: 0.0031\n",
      "Epoch 5/10\n",
      "1400/1400 [==============================] - 59s 42ms/step - loss: 0.0033 - mean_squared_error: 0.0033\n",
      "Epoch 6/10\n",
      "1400/1400 [==============================] - 78s 56ms/step - loss: 0.0032 - mean_squared_error: 0.0032\n",
      "Epoch 7/10\n",
      "1400/1400 [==============================] - 72s 52ms/step - loss: 0.0034 - mean_squared_error: 0.0034\n",
      "Epoch 8/10\n",
      "1400/1400 [==============================] - 64s 46ms/step - loss: 0.0027 - mean_squared_error: 0.0027\n",
      "Epoch 9/10\n",
      "1400/1400 [==============================] - 65s 46ms/step - loss: 0.0034 - mean_squared_error: 0.0034\n",
      "Epoch 10/10\n",
      "1400/1400 [==============================] - 61s 43ms/step - loss: 0.0025 - mean_squared_error: 0.0025\n"
     ]
    }
   ],
   "source": [
    "#model use 8 features\n",
    "model=train(X_train, y_train)"
   ]
  },
  {
   "cell_type": "code",
   "execution_count": 81,
   "metadata": {},
   "outputs": [],
   "source": [
    "model.save('/Users/xyz/Downloads/NL-20/MobiFi/model')"
   ]
  },
  {
   "cell_type": "markdown",
   "metadata": {},
   "source": [
    "#### Only use \"Open price\" feature"
   ]
  },
  {
   "cell_type": "code",
   "execution_count": 70,
   "metadata": {},
   "outputs": [
    {
     "name": "stdout",
     "output_type": "stream",
     "text": [
      "train:\n",
      "Epoch 1/10\n",
      "1400/1400 [==============================] - 67s 48ms/step - loss: 0.0199 - mean_squared_error: 0.0199\n",
      "Epoch 2/10\n",
      "1400/1400 [==============================] - 61s 43ms/step - loss: 0.0041 - mean_squared_error: 0.0041\n",
      "Epoch 3/10\n",
      "1400/1400 [==============================] - 59s 42ms/step - loss: 0.0034 - mean_squared_error: 0.0034\n",
      "Epoch 4/10\n",
      "1400/1400 [==============================] - 59s 42ms/step - loss: 0.0034 - mean_squared_error: 0.0034\n",
      "Epoch 5/10\n",
      "1400/1400 [==============================] - 60s 43ms/step - loss: 0.0039 - mean_squared_error: 0.0039\n",
      "Epoch 6/10\n",
      "1400/1400 [==============================] - 59s 42ms/step - loss: 0.0029 - mean_squared_error: 0.0029\n",
      "Epoch 7/10\n",
      "1400/1400 [==============================] - 58s 42ms/step - loss: 0.0029 - mean_squared_error: 0.0029\n",
      "Epoch 8/10\n",
      "1400/1400 [==============================] - 61s 43ms/step - loss: 0.0031 - mean_squared_error: 0.0031\n",
      "Epoch 9/10\n",
      "1400/1400 [==============================] - 59s 42ms/step - loss: 0.0028 - mean_squared_error: 0.0028\n",
      "Epoch 10/10\n",
      "1400/1400 [==============================] - 62s 44ms/step - loss: 0.0030 - mean_squared_error: 0.0030\n"
     ]
    }
   ],
   "source": [
    "#model_0 only use \"Open price\"\n",
    "model_0=train(X0_train, y_train, input_shape=(168,1))"
   ]
  },
  {
   "cell_type": "code",
   "execution_count": 82,
   "metadata": {},
   "outputs": [],
   "source": [
    "model_0.save('/Users/xyz/Downloads/NL-20/MobiFi/model_0')"
   ]
  },
  {
   "cell_type": "markdown",
   "metadata": {},
   "source": [
    "## Test\n",
    "Overall prediction test;\n",
    "\n",
    "12h sequential prediction test"
   ]
  },
  {
   "cell_type": "code",
   "execution_count": null,
   "metadata": {},
   "outputs": [],
   "source": [
    "#If you start from here, import the trained models\n",
    "from tensorflow import keras\n",
    "model = keras.models.load_model('./model')\n",
    "model_0=keras.models.load_model('./model_0')"
   ]
  },
  {
   "cell_type": "code",
   "execution_count": 94,
   "metadata": {
    "scrolled": true
   },
   "outputs": [
    {
     "name": "stdout",
     "output_type": "stream",
     "text": [
      "(432, 168)\n",
      "(432,)\n",
      "baseline_mse 3826.9872541659297\n"
     ]
    }
   ],
   "source": [
    "def mse_cal(actual, pred): \n",
    "    actual, pred = np.array(actual), np.array(pred)\n",
    "    return np.square(np.subtract(actual,pred)).mean() \n",
    "\n",
    "#calculate baseline by mean\n",
    "\n",
    "def baseline_cal(X_test, y_test):\n",
    "    X0_test=X_test[:,:,0]\n",
    "#     print(X0_test.shape)\n",
    "    pred=np.mean(X0_test, axis=1)\n",
    "#     print(pred.shape)\n",
    "    y_test_ori=scaler_x0.inverse_transform(y_test)\n",
    "    pred_ori=scaler_x0.inverse_transform(pred.reshape(-1, 1))\n",
    "    mse=mse_cal(y_test_ori, pred_ori)\n",
    "    print(\"baseline_mse\", mse)\n",
    "    return mse, pred_ori\n",
    "\n",
    "baseline_mse, baseline_pred=baseline_cal(X_test, y_test)"
   ]
  },
  {
   "cell_type": "code",
   "execution_count": 95,
   "metadata": {},
   "outputs": [],
   "source": [
    "def test(model, X_test, y_test, baseline_pred):\n",
    "    print(\"test:\")\n",
    "#     mse=model.evaluate(X_test, y_test)[0]\n",
    "    pred=model.predict(X_test)\n",
    "    pred=scaler_x0.inverse_transform(pred.reshape(-1, 1))\n",
    "    y_test=scaler_x0.inverse_transform(y_test.reshape(-1, 1))\n",
    "    mse=mse_cal(pred, y_test)\n",
    "    \n",
    "    plt.plot(pred, c=\"blue\", label=\"pred\")\n",
    "    plt.plot(y_test, c=\"red\", label=\"truth\")\n",
    "    plt.plot(baseline_pred, c=\"black\", label=\"mean\", ls='--')\n",
    "    plt.legend(loc=(1,0.8))\n",
    "    plt.title(\"ETH price prediction\")\n",
    "    plt.xlabel(\"time\")\n",
    "    plt.ylabel(\"price\")\n",
    "    plt.show()\n",
    "    #baseline_mse 3826.99\n",
    "    print(\"mse:\",mse)\n",
    "    \n",
    "    return mse\n"
   ]
  },
  {
   "cell_type": "code",
   "execution_count": 97,
   "metadata": {},
   "outputs": [
    {
     "name": "stdout",
     "output_type": "stream",
     "text": [
      "test:\n"
     ]
    },
    {
     "data": {
      "image/png": "[encoded data removed]",
      "text/plain": [
       "<Figure size 432x288 with 1 Axes>"
      ]
     },
     "metadata": {
      "needs_background": "light"
     },
     "output_type": "display_data"
    },
    {
     "name": "stdout",
     "output_type": "stream",
     "text": [
      "mse: 768.3922896120805\n"
     ]
    },
    {
     "data": {
      "text/plain": [
       "768.3922896120805"
      ]
     },
     "execution_count": 97,
     "metadata": {},
     "output_type": "execute_result"
    }
   ],
   "source": [
    "#model\n",
    "test(model, X_test, y_test, baseline_pred)"
   ]
  },
  {
   "cell_type": "code",
   "execution_count": 98,
   "metadata": {},
   "outputs": [
    {
     "name": "stdout",
     "output_type": "stream",
     "text": [
      "test:\n"
     ]
    },
    {
     "data": {
      "image/png": "[encoded data removed]",
      "text/plain": [
       "<Figure size 432x288 with 1 Axes>"
      ]
     },
     "metadata": {
      "needs_background": "light"
     },
     "output_type": "display_data"
    },
    {
     "name": "stdout",
     "output_type": "stream",
     "text": [
      "mse: 843.4670357825371\n"
     ]
    },
    {
     "data": {
      "text/plain": [
       "843.4670357825371"
      ]
     },
     "execution_count": 98,
     "metadata": {},
     "output_type": "execute_result"
    }
   ],
   "source": [
    "#model_0\n",
    "test(model_0, X0_test, y_test, baseline_pred)"
   ]
  },
  {
   "cell_type": "markdown",
   "metadata": {},
   "source": [
    "#### Predict one-by-one in sequence"
   ]
  },
  {
   "cell_type": "code",
   "execution_count": 87,
   "metadata": {},
   "outputs": [],
   "source": [
    "def pred_seq(model,model_0, x_onetest, pred_num=12): \n",
    "    out_seq=[]\n",
    "    x_onetest=x_onetest.reshape(1,168,8)\n",
    "    pred=model.predict(x_onetest)\n",
    "    out_seq.append(pred)\n",
    "#     print(x_onetest.shape)\n",
    "    xi=x_onetest[0,:,0].reshape(1,168,1)\n",
    "    \n",
    "    for i in range(pred_num-1):\n",
    "        xi[0,:167,0]=xi[0,1:,0]\n",
    "        xi[0,167:,0]=pred\n",
    "        pred=model_0.predict(xi)\n",
    "        out_seq.append(pred)\n",
    "                \n",
    "    return out_seq\n"
   ]
  },
  {
   "cell_type": "code",
   "execution_count": 102,
   "metadata": {},
   "outputs": [
    {
     "name": "stdout",
     "output_type": "stream",
     "text": [
      "(1, 168, 8)\n",
      "mse baseline:  1721.5802449433138\n",
      "mse:  3059.833727848061\n"
     ]
    },
    {
     "data": {
      "image/png": "[encoded data removed]",
      "text/plain": [
       "<Figure size 432x288 with 1 Axes>"
      ]
     },
     "metadata": {
      "needs_background": "light"
     },
     "output_type": "display_data"
    }
   ],
   "source": [
    "def test_seq(pred_num, model,model_0, X_test, y_test, baseline_pred):\n",
    "    x_onetest=X_test[0,:,:]\n",
    "    y_truth=y_test[:pred_num]\n",
    "    out_seq=pred_seq(model,model_0, x_onetest, pred_num=pred_num)\n",
    "    out_seq=np.array(out_seq)\n",
    "\n",
    "    out_seq=scaler_x0.inverse_transform(out_seq.reshape(-1, 1))\n",
    "    y_truth=scaler_x0.inverse_transform(y_truth.reshape(-1, 1))\n",
    "    mse=mse_cal(out_seq, y_truth)\n",
    "    y_mean_slide=baseline_pred[:pred_num]\n",
    "    mse_baseline=mse_cal(y_mean_slide, y_truth)\n",
    "    #baseline_mse \n",
    "    print(\"mse baseline: \",mse_baseline)\n",
    "    print(\"mse: \",mse)\n",
    "\n",
    "    plt.plot(out_seq, c=\"blue\", label=\"pred\")\n",
    "    plt.plot(y_truth, c=\"red\", label=\"truth\")\n",
    "    plt.plot(baseline_pred[:pred_num], c=\"black\", label=\"mean\", ls='--')\n",
    "    plt.legend(loc=(1,0.8))\n",
    "    plt.title(str(pred_num)+\"h ETH price prediction\")\n",
    "    plt.xlabel(\"time\")\n",
    "    plt.ylabel(\"price\")\n",
    "    plt.show()\n",
    "\n",
    "test_seq(100, model,model_0, X_test, y_test, baseline_pred)"
   ]
  },
  {
   "cell_type": "code",
   "execution_count": 103,
   "metadata": {},
   "outputs": [
    {
     "name": "stdout",
     "output_type": "stream",
     "text": [
      "(1, 168, 8)\n",
      "mse baseline:  1592.3328161966429\n",
      "mse:  164.13414219586815\n"
     ]
    },
    {
     "data": {
      "image/png": "[encoded data removed]",
      "text/plain": [
       "<Figure size 432x288 with 1 Axes>"
      ]
     },
     "metadata": {
      "needs_background": "light"
     },
     "output_type": "display_data"
    }
   ],
   "source": [
    "test_seq(12, model,model_0, X_test, y_test, baseline_pred)"
   ]
  },
  {
   "cell_type": "code",
   "execution_count": null,
   "metadata": {},
   "outputs": [],
   "source": []
  }
 ],
 "metadata": {
  "kernelspec": {
   "display_name": "Python [conda env:root] *",
   "language": "python",
   "name": "conda-root-py"
  },
  "language_info": {
   "codemirror_mode": {
    "name": "ipython",
    "version": 3
   },
   "file_extension": ".py",
   "mimetype": "text/x-python",
   "name": "python",
   "nbconvert_exporter": "python",
   "pygments_lexer": "ipython3",
   "version": "3.7.2"
  }
 },
 "nbformat": 4,
 "nbformat_minor": 2
}
